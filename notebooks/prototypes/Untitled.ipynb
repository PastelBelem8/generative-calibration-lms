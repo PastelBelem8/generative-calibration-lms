{
 "cells": [
  {
   "cell_type": "code",
   "execution_count": 1,
   "id": "c3cbeef9",
   "metadata": {},
   "outputs": [
    {
     "name": "stderr",
     "output_type": "stream",
     "text": [
      "/home/kat/miniconda3/envs/gqa-env/lib/python3.9/site-packages/tqdm/auto.py:22: TqdmWarning: IProgress not found. Please update jupyter and ipywidgets. See https://ipywidgets.readthedocs.io/en/stable/user_install.html\n",
      "  from .autonotebook import tqdm as notebook_tqdm\n"
     ]
    }
   ],
   "source": [
    "import datasets"
   ]
  },
  {
   "cell_type": "code",
   "execution_count": null,
   "id": "8860cb95",
   "metadata": {},
   "outputs": [],
   "source": [
    "### We need to create the documenets ourselves which will take more than 18h to index! \n",
    "# use https://yjernite.github.io/lfqa.html\n",
    "# check if https://github.com/facebookresearch/KILT has the context easily available"
   ]
  },
  {
   "cell_type": "code",
   "execution_count": 16,
   "id": "c946b4bd",
   "metadata": {},
   "outputs": [
    {
     "name": "stderr",
     "output_type": "stream",
     "text": [
      "Reusing dataset eli5 (/home/kat/.cache/huggingface/datasets/eli5/LFQA_reddit/1.0.0/17574e5502a10f41bbd17beba83e22475b499fa62caa1384a3d093fc856fe6fa)\n"
     ]
    },
    {
     "data": {
      "text/plain": [
       "Dataset({\n",
       "    features: ['q_id', 'title', 'selftext', 'document', 'subreddit', 'answers', 'title_urls', 'selftext_urls', 'answers_urls'],\n",
       "    num_rows: 24512\n",
       "})"
      ]
     },
     "execution_count": 16,
     "metadata": {},
     "output_type": "execute_result"
    }
   ],
   "source": [
    "eli5 = datasets.load_dataset(\"eli5\", \"LFQA_reddit\", split=\"test_eli5\")\n",
    "eli5"
   ]
  },
  {
   "cell_type": "code",
   "execution_count": 19,
   "id": "e22485ab",
   "metadata": {},
   "outputs": [
    {
     "data": {
      "text/plain": [
       "{'q_id': '8houtx',\n",
       " 'title': 'Why does water heated to room temperature feel colder than the air around it?',\n",
       " 'selftext': '',\n",
       " 'document': '',\n",
       " 'subreddit': 'explainlikeimfive',\n",
       " 'answers': {'a_id': ['dylcnfk', 'dylcj49'],\n",
       "  'text': [\"Water transfers heat more efficiently than air. When something feels cold it's because heat is being transferred from your skin to whatever you're touching. Since water absorbs the heat more readily than air, it feels colder.\",\n",
       "   \"Air isn't as good at transferring heat compared to something like water or steel (sit on a room temperature steel bench vs. a room temperature wooden bench, and the steel one will feel more cold).\\n\\nWhen you feel cold, what you're feeling is heat being transferred out of you.  If there is no breeze, you feel a certain way.  If there's a breeze, you will get colder faster (because the moving air is pulling the heat away from you), and if you get into water, its quite good at pulling heat from you.   Get out of the water and have a breeze blow on you while you're wet, all of the water starts evaporating, pulling even more heat from you.\"],\n",
       "  'score': [5, 2]},\n",
       " 'title_urls': {'url': []},\n",
       " 'selftext_urls': {'url': []},\n",
       " 'answers_urls': {'url': []}}"
      ]
     },
     "execution_count": 19,
     "metadata": {},
     "output_type": "execute_result"
    }
   ],
   "source": [
    "eli5[12345]"
   ]
  },
  {
   "cell_type": "markdown",
   "id": "e3e5b588",
   "metadata": {},
   "source": [
    "### KILT [ref](https://ai.facebook.com/tools/kilt/)"
   ]
  },
  {
   "cell_type": "code",
   "execution_count": 21,
   "id": "4bd54e19",
   "metadata": {},
   "outputs": [
    {
     "name": "stderr",
     "output_type": "stream",
     "text": [
      "Reusing dataset kilt_tasks (/home/kat/.cache/huggingface/datasets/kilt_tasks/eli5/1.0.0/57dc8b2431e76637e0c6ef79689ca4af61ed3a330e2e0cd62c8971465a35db3a)\n",
      "100%|███████████████████████████████████████████████████████████████████████████████████████████████████████████████████████████████████████████████████████████████████████████████| 3/3 [00:00<00:00, 628.08it/s]\n"
     ]
    },
    {
     "data": {
      "text/plain": [
       "DatasetDict({\n",
       "    train: Dataset({\n",
       "        features: ['id', 'input', 'meta', 'output'],\n",
       "        num_rows: 272634\n",
       "    })\n",
       "    validation: Dataset({\n",
       "        features: ['id', 'input', 'meta', 'output'],\n",
       "        num_rows: 1507\n",
       "    })\n",
       "    test: Dataset({\n",
       "        features: ['id', 'input', 'meta', 'output'],\n",
       "        num_rows: 600\n",
       "    })\n",
       "})"
      ]
     },
     "execution_count": 21,
     "metadata": {},
     "output_type": "execute_result"
    }
   ],
   "source": [
    "kilt_eli5 = datasets.load_dataset(\"kilt_tasks\", \"eli5\")\n",
    "kilt_eli5"
   ]
  },
  {
   "cell_type": "code",
   "execution_count": 24,
   "id": "01e04403",
   "metadata": {},
   "outputs": [
    {
     "data": {
      "text/plain": [
       "{'id': '77lnt9',\n",
       " 'input': \"How stock trading works/worked? I've only seen it in movies so I'm wondering why these people were always just screaming and waving pieces of paper around and call it a job.\",\n",
       " 'meta': {'left_context': '',\n",
       "  'mention': '',\n",
       "  'right_context': '',\n",
       "  'partial_evidence': [],\n",
       "  'obj_surface': [],\n",
       "  'sub_surface': [],\n",
       "  'subj_aliases': [],\n",
       "  'template_questions': []},\n",
       " 'output': [{'answer': 'The angered mob was buying and selling shares of stock to one another. The setting for these trades is called the trading floor. The loud shouting was to inform anyone your interest of selling or buying a quantity of stock at a price. Once you find someone to make the trade with, you each fill out a trading slip and the transaction is confirmed. Now, more popularly, the asking and bidding on shares is performed via computers.',\n",
       "   'meta': {'score': -1},\n",
       "   'provenance': []},\n",
       "  {'answer': 'It\\'s not like that anymore, but it used to be pretty much what it looks like. Guy 1: \"I\\'m selling $STOCK for $MONEY\" Guy 2: \"I\\'ll buy 1,000 $STOCK for $MONEY!\" Guy 1: \"Sold!\" Remember, the movie scenes are almost always pegged on some crazy fiscal meltdown. It didn\\'t look that chaotic most of the time. These days it\\'s all digital. Sellers post their prices, and buyers try to buy only to get screwed out of a nickel by unscrupulous flash traders. Heh.',\n",
       "   'meta': {'score': -1},\n",
       "   'provenance': []},\n",
       "  {'answer': \"It's almost all digital nowadays. There are people offering to buy stocks at a certain price and there are people offering to sell stocks at a certain price. A computer matches them and executes the transaction.\",\n",
       "   'meta': {'score': -1},\n",
       "   'provenance': []},\n",
       "  {'answer': \"In very very very basic terms it's the super dilution of ownership of a company. Stock is basically, well the stake of a company, broken up into tiny tiny pieces and put on the public market. Usually a board of directors own enough shares to control the company while the shares that go out on the market are called publicly traded shares. Say for example, you are a cannibal recipe website called Facecook and you as a private company have grown in popularity. You now need an injection of money to go to the next level and you don't want some huge investment firm controlling so much they could replace you. You break up your company's ownership into tiny shares, keep a majority for yourself, pass on some smaller amounts to your board of directors and your employees and the rest goes on the market. You set a reasonable valuation for it on the day it goes public, called the IPO or initial public offering. People all want a piece of the action, because they know if you do well, the stock value goes up (including that face cook stock you bought). Stock price goes up as demand goes up, or if there's rumors of something awesome you're doing. But in all honesty, most people on the public market are there as hawkers at a bazaar. Their aim is to buy at low prices and sell at high prices. The amount they get to own of your company is so little, they have little to no say in what your company does as an individual. But as a collective, every time there's Frenzy to buy, they drive your stock price up and inject capital into your company. EDIT (here's the part you were looking for): For individuals who play the game at the frenzied bazaar full time, they're all trying to hit gold. Have those few super massive successful trades that can make them millionaires in a matter of minutes. With thousands of people trading non stop around the world, values fluctuate like crazy. And provided you have the right mix and the right access to buy and sell stocks from the right company, you can make a killing (and lose it). When they scream sell sell sell, they want people to dump the stock because there's reason to believe it will drop. Once it bottoms out. They'll buy it again and sell it once it rises. It's like a manifestation of what nature is - an adrenaline fuelled chaotic race for survival over limited resources where wit, cunning and luck can all work in your favour or you can lose out despite 'doing everything right'\",\n",
       "   'meta': {'score': -1},\n",
       "   'provenance': []},\n",
       "  {'answer': 'Nowadays it\\'s almost entirely electronic. Traders submit orders into the exchange that are like \"I want to buy 100 shares of XYZ at $30,\" and as soon as someone is willing to sell at that price, the exchange informs both parties that the trade has occurred. The exchange will also list what the current highest \"bid\" and lowest \"ask\" are, so you\\'d see that someone is currently willing to buy 100 shares of XYZ for $30 and someone else is willing to sell 500 shares for $30.01. You can also submit a \"market order\" like \"sell 1000 shares to whomever will give me the best price,\" which in the above example might cause you to sell 100 shares to the guy bidding $30, then another 400 to some other guy bidding $29.99, and the last 500 to someone else bidding $29.98. The exchange will automatically figure out who owes what and handle the transactions. However, this was all much harder before computers. Instead of submitting your order automatically, you\\'d need to have someone on the floor of the exchange yelling about how much you wanted to buy/sell and the price. When you tried to buy stock for your personal account, your bank would then contact their floor trader to buy that stock for you. The pieces of paper were for writing down what trades that trader personally had done. When you\\'d see those people in movies, it\\'d be during major moves in the price, which would cause significant activity in the area and increase the general level of chaos. You might think \"why wouldn\\'t they lie about what happened?\" They could do that, but failing to follow through with a trade just because it ended up bad for you would destroy your reputation, and the rest of the traders would know and you\\'d never get trades again.',\n",
       "   'meta': {'score': -1},\n",
       "   'provenance': []},\n",
       "  {'answer': 'Usually the shouting is from futures pits, that means everyone in the pit is trading futures on the same commodity (they\\'re all trading coffee or orange juice or a certain type of wheat to be delivered in a few weeks). So to make a trade two people only need to agree on the price and the number of contracts. Those were negotiated by hand signals, so people wanting to buy would look around the room for someone signaling they wanted to sell, and when someone was found they\\'d flash some hand signals to establish the price and number of contracts. After that they would each fill out a piece of paper from their order book with the information from the trade. So one side\\'s paper would say, \"At specific time, I (broker 393) bought 10 contracts at a price of $3.47 per bushel from broker number 552\" and the other side\\'s paper would hopefully say \"At the same time, I (broker 552) sold 10 contracts at a price of $3.47 per bushel to broker 393.\" Then they would hand the papers to runners who would take them to an employee of the exchange. The exchange would match these papers and record that Broker 393\\'s account now has 10 more contracts and broker 552 has 10 fewer. There were occasionally errors, where perhaps two people think they bought from the same person, but they were pretty rare (everyone in the room paid a lot of money to be there, so no one wanted to make enough mistakes that they would lose their right to be there). So the papers are blank trade sheets, which become important when their filled out, and the shouting is an often futile attempt to get the attention of someone who you want to make a trade. Live stock market trading was done with specialists (one broker who would take the other side of every trade) who essentially created tiny areas where everyone might be trading a single stock. There was less risk of an error because the specialist was the only person who could trade with everyone. As you probably expect, specialists minted money for a very long time. Today computerized trading for almost all products is done on the same open outcry method, but the computer can record the transaction as it\\'s made and little need for shouting or hand signals.',\n",
       "   'meta': {'score': -1},\n",
       "   'provenance': []},\n",
       "  {'answer': 'It is heavily dramatized in movies to an unrealistic level. In real life, stocks represent an investment in a company that you can later sell back for a profit. Every now and then events will happen in the environment that can drastically affect the profitability of a company and that may cause a “frenzy” on the stock market as people react to that event. More often activity on the stock market is spurred by press releases from companies saying that they are going to start making a new product or service.',\n",
       "   'meta': {'score': -1},\n",
       "   'provenance': []},\n",
       "  {'answer': \"It's called open outcry or pit trading. More common for futures than stocks AFAIK. They lasted way beyond the start of electronic trading but not many left today, especially in bigger markets. Check out the documentary, floored. They talk about what the hand signals mean and the mechanics of a trade. Most basic explanation I have is that it's like a constant, ongoing negotiation between many different buyers and sellers, all at the same time.\",\n",
       "   'meta': {'score': -1},\n",
       "   'provenance': []},\n",
       "  {'answer': '',\n",
       "   'meta': {'score': -1},\n",
       "   'provenance': [{'bleu_score': -1.0,\n",
       "     'start_character': -1,\n",
       "     'start_paragraph_id': 2,\n",
       "     'end_character': -1,\n",
       "     'end_paragraph_id': 2,\n",
       "     'meta': {'fever_page_id': '',\n",
       "      'fever_sentence_id': -1,\n",
       "      'annotation_id': '-1',\n",
       "      'yes_no_answer': '',\n",
       "      'evidence_span': ['Based on a true story, the film is the story of a young man charged with groping on a train. Following the events depicted in the film, which end in a conviction and his decision to appeal, in real life he was found innocent finally after a five-year legal battle.\\rhighlight sentence(s) containing evidence, not only the answer',\n",
       "       'Based on a true story, the film is the story of a young man charged with groping on a train. Following the events depicted in the film, which end in a conviction and his decision to appeal, in real life he was found innocent finally after a five-year legal battle.\\rhighlight sentence(s) containing evidence, not only the answer']},\n",
       "     'section': 'Section::::Plot.\\n',\n",
       "     'title': \"I Just Didn't Do It\",\n",
       "     'wikipedia_id': '18066762'}]},\n",
       "  {'answer': '',\n",
       "   'meta': {'score': -1},\n",
       "   'provenance': [{'bleu_score': -1.0,\n",
       "     'start_character': -1,\n",
       "     'start_paragraph_id': 56,\n",
       "     'end_character': -1,\n",
       "     'end_paragraph_id': 56,\n",
       "     'meta': {'fever_page_id': '',\n",
       "      'fever_sentence_id': -1,\n",
       "      'annotation_id': '-1',\n",
       "      'yes_no_answer': '',\n",
       "      'evidence_span': ['the sweatshops close. There are plenty of causes that lead to the occurrence of this yet to be solved this global issue. Among them, globalisation is the main cause undeniably. Reports suggests that when the world markets are opened to free trade under globalisation, a phenomenon of race to the bottom happens. Sweatshop is an obvious example of such phenomenon. Without transnational guidelines and regulations, large corporations in developed countries are moving their manufacturing plants to the countries that are more vulnerable, such as with less environmental restrictions and lower labour standards. To meet the demands and compete for the patronage, factories in developing countries start to lower their labour regulations by providing minimum wages and ignoring workplace safety requirements. As a result, workers in developing countries face the hardship while the large corporations gain profit.\\rhighlight sentence(s) containing evidence, not only the answer',\n",
       "       'the sweatshops close. There are plenty of causes that lead to the occurrence of this yet to be solved this global issue. Among them, globalisation is the main cause undeniably. Reports suggests that when the world markets are opened to free trade under globalisation, a phenomenon of race to the bottom happens. Sweatshop is an obvious example of such phenomenon. Without transnational guidelines and regulations, large corporations in developed countries are moving their manufacturing plants to the countries that are more vulnerable, such as with less environmental restrictions and lower labour standards. To meet the demands and compete for the patronage, factories in developing countries start to lower their labour regulations by providing minimum wages and ignoring workplace safety requirements.']},\n",
       "     'section': 'Section::::Contributing factors.:Globalization.\\n',\n",
       "     'title': 'Sweatshop',\n",
       "     'wikipedia_id': '102075'}]},\n",
       "  {'answer': '',\n",
       "   'meta': {'score': -1},\n",
       "   'provenance': [{'bleu_score': -1.0,\n",
       "     'start_character': -1,\n",
       "     'start_paragraph_id': 28,\n",
       "     'end_character': -1,\n",
       "     'end_paragraph_id': 28,\n",
       "     'meta': {'fever_page_id': '',\n",
       "      'fever_sentence_id': -1,\n",
       "      'annotation_id': '-1',\n",
       "      'yes_no_answer': '',\n",
       "      'evidence_span': ['According to Nancy Clark from Precision Communications, grass-roots specialists charge $25 to $75 for each constituent they convince to send a letter to a politician. Paid online commentators in China are paid 50 cents for each online post that is not removed by moderators, leading to the nickname of the \"50-cent party.\" \"The New York Times\" reported that a business selling fake online book reviews charged $999 for 50 reviews and made $28,000 a month shortly after opening. According to the \"Financial Times\", astroturfing is \"commonplace\" in American politics, but was \"revolutionary\" in Europe when it was exposed that the European Privacy Association, an anti-privacy \"think-tank\", was actually sponsored by technology companies. Although the term \"astroturfing\" was not yet developed, an early example of the practice was in Act 1, Scene 2\\rhighlight sentence(s) containing evidence, not only the answer',\n",
       "       'According to Nancy Clark from Precision Communications, grass-roots specialists charge $25 to $75 for each constituent they convince to send a letter to a politician. Paid online commentators in China are paid 50 cents for each online post that is not removed by moderators, leading to the nickname of the \"50-cent party.\" \"The New York Times\" reported that a business selling fake online book reviews charged $999 for 50 reviews and made $28,000 a month shortly after opening. According to the \"Financial Times\", astroturfing is \"commonplace\" in American politics, but was \"revolutionary\" in Europe when it was exposed that the European Privacy Association, an anti-privacy \"think-tank\", was actually sponsored by technology companies. Although the term \"astroturfing\"']},\n",
       "     'section': 'Section::::Business and adoption.\\n',\n",
       "     'title': 'Astroturfing',\n",
       "     'wikipedia_id': '241409'}]}]}"
      ]
     },
     "execution_count": 24,
     "metadata": {},
     "output_type": "execute_result"
    }
   ],
   "source": [
    "kilt_eli5[\"validation\"][245]"
   ]
  },
  {
   "cell_type": "code",
   "execution_count": null,
   "id": "afdcf7e1",
   "metadata": {},
   "outputs": [],
   "source": [
    "# Understand schema\n",
    "# Use baseline BART to predict\n",
    "# Use baseline to get scores"
   ]
  },
  {
   "cell_type": "code",
   "execution_count": null,
   "id": "c9842de9",
   "metadata": {},
   "outputs": [],
   "source": []
  },
  {
   "cell_type": "code",
   "execution_count": null,
   "id": "06fd57e2",
   "metadata": {},
   "outputs": [],
   "source": []
  }
 ],
 "metadata": {
  "kernelspec": {
   "display_name": "Python 3 (ipykernel)",
   "language": "python",
   "name": "python3"
  },
  "language_info": {
   "codemirror_mode": {
    "name": "ipython",
    "version": 3
   },
   "file_extension": ".py",
   "mimetype": "text/x-python",
   "name": "python",
   "nbconvert_exporter": "python",
   "pygments_lexer": "ipython3",
   "version": "3.9.7"
  },
  "toc": {
   "base_numbering": 1,
   "nav_menu": {},
   "number_sections": true,
   "sideBar": true,
   "skip_h1_title": true,
   "title_cell": "Table of Contents",
   "title_sidebar": "Contents",
   "toc_cell": false,
   "toc_position": {},
   "toc_section_display": true,
   "toc_window_display": false
  }
 },
 "nbformat": 4,
 "nbformat_minor": 5
}
