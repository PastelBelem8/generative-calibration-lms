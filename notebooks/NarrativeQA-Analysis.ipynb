{
 "cells": [
  {
   "cell_type": "code",
   "execution_count": 89,
   "id": "dfde9a03",
   "metadata": {},
   "outputs": [
    {
     "name": "stdout",
     "output_type": "stream",
     "text": [
      "Using id as the unique column\n"
     ]
    },
    {
     "data": {
      "text/plain": [
       "['id', 'answers']"
      ]
     },
     "execution_count": 89,
     "metadata": {},
     "output_type": "execute_result"
    }
   ],
   "source": [
    "DATASET_DIR = \"../datasets\"\n",
    "OUTPUT_DIR = \"../outputs\"\n",
    "\n",
    "# name of the dataset to preprocess\n",
    "DATASET_NAME, SPLIT_NAME = \"narrativeqa\", \"dev\"\n",
    "\n",
    "IS_LOCAL_FS_DATASET = True \n",
    "\n",
    "if isinstance(DATASET_NAME, tuple):\n",
    "    NORMALIZED_DATASET_NAME = \"\".join(DATASET_NAME)\n",
    "else:\n",
    "    NORMALIZED_DATASET_NAME = DATASET_NAME\n",
    "\n",
    "\n",
    "ROOT_DIR = f\"{OUTPUT_DIR}/results/{NORMALIZED_DATASET_NAME}/{SPLIT_NAME}\"\n",
    "MATRIX_DIR = f\"{ROOT_DIR}/matrix\"\n",
    "\n",
    "!mkdir -p {MATRIX_DIR}\n",
    "SEED = 42\n",
    "\n",
    "# Arguments used to read the files from disk\n",
    "csv_kwargs = {\n",
    "   \"compression\": \"gzip\",\n",
    "   \"encoding\": \"utf-8\",\n",
    "}\n",
    "\n",
    "# ----------------------------------------\n",
    "## Columns names\n",
    "# ----------------------------------------\n",
    "UNIQUE_ID_COL = \"id\"\n",
    "print(\"Using\", UNIQUE_ID_COL, \"as the unique column\")\n",
    "\n",
    "QUESTION_COLNAME = \"question\"\n",
    "CONTEXT_COLNAME = \"context\"\n",
    "ANSWER_COLNAME = \"answers\"\n",
    "\n",
    "UUID_FEATURES = [UNIQUE_ID_COL, ANSWER_COLNAME]\n",
    "UUID_FEATURES"
   ]
  },
  {
   "cell_type": "code",
   "execution_count": 90,
   "id": "e7799280",
   "metadata": {},
   "outputs": [
    {
     "name": "stdout",
     "output_type": "stream",
     "text": [
      "\n",
      "--> Loading dataset with arguments: {'dataset': 'narrativeqa', 'split': 'dev', 'local': True, 'local_dir': '../datasets', 'fn_kwargs': {'answer_col': 'answers'}}\n",
      "Loaded dataset with 6922 examples: Dataset({\n",
      "    features: ['id', 'title', 'question', 'context', 'answers'],\n",
      "    num_rows: 6922\n",
      "})\n"
     ]
    }
   ],
   "source": [
    "from utils.datasets import load_dataset, unfold_multiple_answers, create_metadata\n",
    "\n",
    "LOAD_KWARGS = {\n",
    "    \"dataset\": DATASET_NAME,\n",
    "    \"split\": SPLIT_NAME,\n",
    "    \"local\": IS_LOCAL_FS_DATASET,\n",
    "    \"local_dir\": DATASET_DIR,\n",
    "    \n",
    "    \"fn_kwargs\": {\n",
    "        \"answer_col\": ANSWER_COLNAME,\n",
    "    },\n",
    "}\n",
    "\n",
    "from utils_generic import filter_params, generate_uuid\n",
    "\n",
    "load_kwargs = LOAD_KWARGS\n",
    "print(\"\\n--> Loading dataset with arguments:\", load_kwargs)\n",
    "data = load_dataset(**load_kwargs)\n",
    "print(\"Loaded dataset with\", len(data), \"examples:\", data)"
   ]
  },
  {
   "cell_type": "code",
   "execution_count": 91,
   "id": "2654b1de",
   "metadata": {},
   "outputs": [
    {
     "name": "stdout",
     "output_type": "stream",
     "text": [
      "\n",
      "--> Unfolding (aka flattening) dataset with arguments: {}\n"
     ]
    },
    {
     "name": "stderr",
     "output_type": "stream",
     "text": [
      "100%|████████████████████████████████████████████████████████████████████████████████████████████████████████████████████████████████████████████████████████████████████████████████| 7/7 [00:00<00:00, 50.26ba/s]\n"
     ]
    },
    {
     "name": "stdout",
     "output_type": "stream",
     "text": [
      "Resulting dataset has 6922 examples: Dataset({\n",
      "    features: ['id', 'title', 'question', 'context', 'answers', 'answers_multi_way'],\n",
      "    num_rows: 6922\n",
      "})\n",
      "\n",
      "--> Generate unique identifier using ['id', 'answers']\n"
     ]
    },
    {
     "name": "stderr",
     "output_type": "stream",
     "text": [
      "100%|███████████████████████████████████████████████████████████████████████████████████████████████████████████████████████████████████████████████████████████████████████| 6922/6922 [00:00<00:00, 12767.00ex/s]"
     ]
    },
    {
     "name": "stdout",
     "output_type": "stream",
     "text": [
      "\n",
      "--> Renaming column names {'id': 'example_id', 'answers': 'labels', 'answers_multi_way': 'multi_way_labels'}\n",
      "Dataset({\n",
      "    features: ['example_id', 'title', 'question', 'context', 'labels', 'multi_way_labels', 'answer_id'],\n",
      "    num_rows: 6922\n",
      "})\n"
     ]
    },
    {
     "name": "stderr",
     "output_type": "stream",
     "text": [
      "\n"
     ]
    }
   ],
   "source": [
    "unfold_kwargs = filter_params(LOAD_KWARGS, unfold_multiple_answers)\n",
    "print(\"\\n--> Unfolding (aka flattening) dataset with arguments:\", unfold_kwargs)\n",
    "data = data.map(unfold_multiple_answers, batched=True, **unfold_kwargs)\n",
    "print(\"Resulting dataset has\", len(data), \"examples:\", data)\n",
    "\n",
    "print(\"\\n--> Generate unique identifier using\", UUID_FEATURES)\n",
    "data = create_metadata(data, col=f\"answer_id\", features=UUID_FEATURES, **unfold_kwargs)\n",
    "\n",
    "\n",
    "COLS_NAMES = {\n",
    "    \"id\": \"example_id\",\n",
    "    ANSWER_COLNAME: \"labels\",\n",
    "    f\"{ANSWER_COLNAME}_multi_way\": \"multi_way_labels\", \n",
    "}\n",
    "\n",
    "print(\"\\n--> Renaming column names\", COLS_NAMES)\n",
    "data = data.rename_columns(COLS_NAMES)\n",
    "print(data)"
   ]
  },
  {
   "cell_type": "code",
   "execution_count": 92,
   "id": "210cb938",
   "metadata": {},
   "outputs": [],
   "source": [
    "import spacy\n",
    "nlp = spacy.load(\"en_core_web_sm\", disable=['tagger', 'parser', 'ner'])"
   ]
  },
  {
   "cell_type": "code",
   "execution_count": 93,
   "id": "eaeb385b",
   "metadata": {},
   "outputs": [
    {
     "name": "stderr",
     "output_type": "stream",
     "text": [
      "  0%|                                                                                                                                                                                     | 0/6922 [00:00<?, ?ex/s]/home/kat/miniconda3/envs/gqa-env/lib/python3.9/site-packages/spacy/pipeline/lemmatizer.py:211: UserWarning: [W108] The rule-based lemmatizer did not find POS annotation for one or more tokens. Check that your pipeline includes components that assign token.pos, typically 'tagger'+'attribute_ruler' or 'morphologizer'.\n",
      "  warnings.warn(Warnings.W108)\n",
      "100%|██████████████████████████████████████████████████████████████████████████████████████████████████████████████████████████████████████████████████████████████████████████| 6922/6922 [02:02<00:00, 56.35ex/s]\n"
     ]
    },
    {
     "data": {
      "text/plain": [
       "Dataset({\n",
       "    features: ['example_id', 'title', 'question', 'context', 'labels', 'multi_way_labels', 'answer_id', 'question_len', 'context_len', 'labels_len'],\n",
       "    num_rows: 6922\n",
       "})"
      ]
     },
     "execution_count": 93,
     "metadata": {},
     "output_type": "execute_result"
    }
   ],
   "source": [
    "def compute_len(example):\n",
    "    for col in (\"question\", \"context\", \"labels\"):\n",
    "        example[f\"{col}_len\"] = len(nlp(example[col]))\n",
    "    \n",
    "    return example\n",
    "\n",
    "data_w_len = data.map(compute_len)\n",
    "data_w_len"
   ]
  },
  {
   "cell_type": "code",
   "execution_count": 94,
   "id": "623e8b5f",
   "metadata": {},
   "outputs": [],
   "source": [
    "# Create matrix w/ long sequences only\n",
    "# Create matri"
   ]
  },
  {
   "cell_type": "code",
   "execution_count": 95,
   "id": "3d228d59",
   "metadata": {},
   "outputs": [],
   "source": [
    "answers_length = data_w_len[\"labels_len\"]"
   ]
  },
  {
   "cell_type": "code",
   "execution_count": 96,
   "id": "acb771b0",
   "metadata": {},
   "outputs": [],
   "source": [
    "import matplotlib.pyplot as plt\n",
    "import seaborn as sns"
   ]
  },
  {
   "cell_type": "code",
   "execution_count": 100,
   "id": "c63e00ff",
   "metadata": {},
   "outputs": [],
   "source": [
    "def plot_lengths(data, col, figsize=(8, 5), **kwargs):\n",
    "    datum = data[f\"{col}_len\"]\n",
    "    print(f\"{col}_len [\", min(datum), max(datum), \"]\")\n",
    "    \n",
    "    plt.figure(figsize=figsize)\n",
    "    sns.histplot(datum, label=f\"{col}_len\", **kwargs)\n",
    "    plt.xlabel(f\"{col}_len\")\n",
    "    plt.legend()\n",
    "    plt.title(col + \" length distribution (in words)\")"
   ]
  },
  {
   "cell_type": "code",
   "execution_count": 108,
   "id": "ea580726",
   "metadata": {},
   "outputs": [
    {
     "name": "stdout",
     "output_type": "stream",
     "text": [
      "labels_len [ 2 35 ]\n"
     ]
    },
    {
     "data": {
      "image/png": "[encoded data removed]",
      "text/plain": [
       "<Figure size 576x360 with 1 Axes>"
      ]
     },
     "metadata": {
      "needs_background": "light"
     },
     "output_type": "display_data"
    }
   ],
   "source": [
    "plot_lengths(data_w_len, \"labels\", binrange=(1, 40), binwidth=1)"
   ]
  },
  {
   "cell_type": "code",
   "execution_count": 104,
   "id": "f304e05f",
   "metadata": {},
   "outputs": [
    {
     "name": "stdout",
     "output_type": "stream",
     "text": [
      "question_len [ 4 27 ]\n"
     ]
    },
    {
     "data": {
      "image/png": "[encoded data removed]",
      "text/plain": [
       "<Figure size 576x360 with 1 Axes>"
      ]
     },
     "metadata": {
      "needs_background": "light"
     },
     "output_type": "display_data"
    }
   ],
   "source": [
    "plot_lengths(data_w_len, \"question\", binrange=(1, 40), binwidth=1)"
   ]
  },
  {
   "cell_type": "code",
   "execution_count": 103,
   "id": "b8609666",
   "metadata": {},
   "outputs": [
    {
     "name": "stdout",
     "output_type": "stream",
     "text": [
      "context_len [ 235 1234 ]\n"
     ]
    },
    {
     "data": {
      "image/png": "[encoded data removed]",
      "text/plain": [
       "<Figure size 576x360 with 1 Axes>"
      ]
     },
     "metadata": {
      "needs_background": "light"
     },
     "output_type": "display_data"
    }
   ],
   "source": [
    "plot_lengths(data_w_len, \"context\")"
   ]
  },
  {
   "cell_type": "code",
   "execution_count": 80,
   "id": "d8ca91c2",
   "metadata": {},
   "outputs": [
    {
     "data": {
      "text/plain": [
       "Dataset({\n",
       "    features: ['example_id', 'title', 'question', 'context', 'labels', 'multi_way_labels', 'answer_id', 'question_len', 'context_len', 'labels_len'],\n",
       "    num_rows: 21114\n",
       "})"
      ]
     },
     "execution_count": 80,
     "metadata": {},
     "output_type": "execute_result"
    }
   ],
   "source": [
    "data_w_len"
   ]
  },
  {
   "cell_type": "code",
   "execution_count": 109,
   "id": "5986c694",
   "metadata": {},
   "outputs": [
    {
     "name": "stderr",
     "output_type": "stream",
     "text": [
      "100%|███████████████████████████████████████████████████████████████████████████████████████████████████████████████████████████████████████████████████████████████████████████████| 7/7 [00:00<00:00, 120.24ba/s]\n"
     ]
    }
   ],
   "source": [
    "N_WORDS = 10\n",
    "data_to_file = data_w_len.filter(lambda example: example['labels_len'] >= N_WORDS)\n",
    "data_to_file = data_to_file.remove_columns(['question_len', 'context_len', 'labels_len'])"
   ]
  },
  {
   "cell_type": "code",
   "execution_count": 110,
   "id": "1e6020e1",
   "metadata": {},
   "outputs": [
    {
     "name": "stdout",
     "output_type": "stream",
     "text": [
      "Writing matrix at filepath: ../outputs/results/narrativeqa/dev/matrix/narrativeqa_dev_len_10_preprocessed.csv.gz\n"
     ]
    },
    {
     "name": "stderr",
     "output_type": "stream",
     "text": [
      "Creating CSV from Arrow format:   0%|                                                                                                                                                        | 0/1 [00:00<?, ?ba/s]/home/kat/miniconda3/envs/gqa-env/lib/python3.9/site-packages/datasets/io/csv.py:95: RuntimeWarning: compression has no effect when passing a non-binary object as input.\n",
      "  csv_str = batch.to_pandas().to_csv(\n",
      "Creating CSV from Arrow format: 100%|████████████████████████████████████████████████████████████████████████████████████████████████████████████████████████████████████████████████| 1/1 [00:00<00:00, 20.03ba/s]\n"
     ]
    },
    {
     "data": {
      "text/plain": [
       "3579863"
      ]
     },
     "execution_count": 110,
     "metadata": {},
     "output_type": "execute_result"
    }
   ],
   "source": [
    "BASE_FILENAME = f\"{NORMALIZED_DATASET_NAME}_{SPLIT_NAME}_len_{N_WORDS}\"\n",
    "\n",
    "MATRIX_FILEPATH = f\"{MATRIX_DIR}/{BASE_FILENAME}_preprocessed.csv.gz\"\n",
    "print(\"Writing matrix at filepath:\", MATRIX_FILEPATH)\n",
    "\n",
    "data_to_file.to_csv(\n",
    "    MATRIX_FILEPATH[:-3],\n",
    "    index=False,\n",
    "    **csv_kwargs,\n",
    ")"
   ]
  },
  {
   "cell_type": "code",
   "execution_count": null,
   "id": "54e15692",
   "metadata": {},
   "outputs": [],
   "source": []
  }
 ],
 "metadata": {
  "kernelspec": {
   "display_name": "Python 3 (ipykernel)",
   "language": "python",
   "name": "python3"
  },
  "language_info": {
   "codemirror_mode": {
    "name": "ipython",
    "version": 3
   },
   "file_extension": ".py",
   "mimetype": "text/x-python",
   "name": "python",
   "nbconvert_exporter": "python",
   "pygments_lexer": "ipython3",
   "version": "3.9.7"
  },
  "toc": {
   "base_numbering": 1,
   "nav_menu": {},
   "number_sections": true,
   "sideBar": true,
   "skip_h1_title": true,
   "title_cell": "Table of Contents",
   "title_sidebar": "Contents",
   "toc_cell": false,
   "toc_position": {},
   "toc_section_display": true,
   "toc_window_display": false
  }
 },
 "nbformat": 4,
 "nbformat_minor": 5
}
