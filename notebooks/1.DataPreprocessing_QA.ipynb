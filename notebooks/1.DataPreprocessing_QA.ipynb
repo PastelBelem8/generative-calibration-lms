{
 "cells": [
  {
   "cell_type": "markdown",
   "id": "2f21e89d",
   "metadata": {},
   "source": [
    "# Data Preprocessing\n",
    "\n",
    "This notebook gathers the preprocessing stages of each dataset for the analysis during out experiments."
   ]
  },
  {
   "cell_type": "code",
   "execution_count": 1,
   "id": "6c48ea89",
   "metadata": {},
   "outputs": [
    {
     "name": "stdout",
     "output_type": "stream",
     "text": [
      "Writing matrix at filepath: ../outputs/results/squad/validation/matrix/squad_validation_preprocessed.csv.gz\n",
      "Using id as the unique column\n"
     ]
    },
    {
     "data": {
      "text/plain": [
       "['id', 'answers']"
      ]
     },
     "execution_count": 1,
     "metadata": {},
     "output_type": "execute_result"
    }
   ],
   "source": [
    "DATASET_DIR = \"../datasets\"\n",
    "OUTPUT_DIR = \"../outputs\"\n",
    "\n",
    "# name of the dataset to preprocess\n",
    "DATASET_NAME, SPLIT_NAME = \"squad\", \"validation\"\n",
    "# DATASET_NAME, SPLIT_NAME = \"newsqa\", \"dev\"\n",
    "# DATASET_NAME, SPLIT_NAME = ('squadshifts', 'new_wiki'), \"test\"\n",
    "# DATASET_NAME, SPLIT_NAME = ('squadshifts', 'nyt'), \"test\"\n",
    "# DATASET_NAME, SPLIT_NAME = ('squadshifts', 'amazon'), \"test\"\n",
    "# DATASET_NAME, SPLIT_NAME = ('squadshifts', 'reddit'), \"test\"\n",
    "# DATASET_NAME, SPLIT_NAME = \"narrativeqa\", \"test_5k_sample_seed_2022\"\n",
    "\n",
    "IS_LOCAL_FS_DATASET = True \\\n",
    "    if (DATASET_NAME in (\"newsqa\", ) or SPLIT_NAME in (\"test_5k_sample_seed_2022\",)) \\\n",
    "    else False\n",
    "\n",
    "if isinstance(DATASET_NAME, tuple):\n",
    "    NORMALIZED_DATASET_NAME = \"\".join(DATASET_NAME)\n",
    "else:\n",
    "    NORMALIZED_DATASET_NAME = DATASET_NAME\n",
    "\n",
    "BASE_FILENAME = f\"{NORMALIZED_DATASET_NAME}_{SPLIT_NAME}\"\n",
    "\n",
    "ROOT_DIR = f\"{OUTPUT_DIR}/results/{NORMALIZED_DATASET_NAME}/{SPLIT_NAME}\"\n",
    "MATRIX_DIR = f\"{ROOT_DIR}/matrix\"\n",
    "!mkdir -p {MATRIX_DIR}\n",
    "\n",
    "MATRIX_FILEPATH = f\"{MATRIX_DIR}/{BASE_FILENAME}_preprocessed.csv.gz\"\n",
    "print(\"Writing matrix at filepath:\", MATRIX_FILEPATH)\n",
    "\n",
    "SEED = 42\n",
    "# Arguments used to read the files from disk\n",
    "csv_kwargs = {\n",
    "   \"compression\": \"gzip\",\n",
    "   \"encoding\": \"utf-8\",\n",
    "}\n",
    "\n",
    "# ----------------------------------------\n",
    "## Columns names\n",
    "# ----------------------------------------\n",
    "UNIQUE_ID_COL = \"id\"\n",
    "print(\"Using\", UNIQUE_ID_COL, \"as the unique column\")\n",
    "\n",
    "QUESTION_COLNAME = \"question\"\n",
    "CONTEXT_COLNAME = \"context\"\n",
    "ANSWER_COLNAME = \"answers\"\n",
    "\n",
    "UUID_FEATURES = [UNIQUE_ID_COL, ANSWER_COLNAME]\n",
    "UUID_FEATURES"
   ]
  },
  {
   "cell_type": "code",
   "execution_count": 1,
   "id": "2b35789a",
   "metadata": {},
   "outputs": [
    {
     "name": "stderr",
     "output_type": "stream",
     "text": [
      "/home/kat/miniconda3/envs/gqa-env/lib/python3.9/site-packages/tqdm/auto.py:22: TqdmWarning: IProgress not found. Please update jupyter and ipywidgets. See https://ipywidgets.readthedocs.io/en/stable/user_install.html\n",
      "  from .autonotebook import tqdm as notebook_tqdm\n"
     ]
    }
   ],
   "source": [
    "from utils.datasets import load_dataset, unfold_multiple_answers, create_metadata"
   ]
  },
  {
   "cell_type": "code",
   "execution_count": 3,
   "id": "0e7fc298",
   "metadata": {},
   "outputs": [],
   "source": [
    "LOAD_KWARGS = {\n",
    "    \"dataset\": DATASET_NAME,\n",
    "    \"split\": SPLIT_NAME,\n",
    "    \"local\": IS_LOCAL_FS_DATASET,\n",
    "    \"local_dir\": DATASET_DIR,\n",
    "    \n",
    "    \"fn_kwargs\": {\n",
    "        \"answer_col\": ANSWER_COLNAME,\n",
    "    },\n",
    "}"
   ]
  },
  {
   "cell_type": "code",
   "execution_count": 4,
   "id": "ed35414f",
   "metadata": {
    "scrolled": true
   },
   "outputs": [
    {
     "name": "stdout",
     "output_type": "stream",
     "text": [
      "\n",
      "--> Loading dataset with arguments: {'dataset': 'squad', 'split': 'validation', 'local': False, 'local_dir': '../datasets', 'fn_kwargs': {'answer_col': 'answers'}}\n"
     ]
    },
    {
     "name": "stderr",
     "output_type": "stream",
     "text": [
      "Reusing dataset squad (/home/kat/.cache/huggingface/datasets/squad/plain_text/1.0.0/d6ec3ceb99ca480ce37cdd35555d6cb2511d223b9150cce08a837ef62ffea453)\n"
     ]
    },
    {
     "name": "stdout",
     "output_type": "stream",
     "text": [
      "Loaded dataset with 10570 examples: Dataset({\n",
      "    features: ['id', 'title', 'context', 'question', 'answers'],\n",
      "    num_rows: 10570\n",
      "})\n"
     ]
    }
   ],
   "source": [
    "from utils_generic import filter_params, generate_uuid\n",
    "\n",
    "load_kwargs = LOAD_KWARGS\n",
    "print(\"\\n--> Loading dataset with arguments:\", load_kwargs)\n",
    "data = load_dataset(**load_kwargs)\n",
    "print(\"Loaded dataset with\", len(data), \"examples:\", data)"
   ]
  },
  {
   "cell_type": "code",
   "execution_count": 5,
   "id": "df855be3",
   "metadata": {},
   "outputs": [
    {
     "name": "stderr",
     "output_type": "stream",
     "text": [
      "Loading cached processed dataset at /home/kat/.cache/huggingface/datasets/squad/plain_text/1.0.0/d6ec3ceb99ca480ce37cdd35555d6cb2511d223b9150cce08a837ef62ffea453/cache-fb4084db8cbaec02.arrow\n"
     ]
    },
    {
     "name": "stdout",
     "output_type": "stream",
     "text": [
      "\n",
      "--> Unfolding (aka flattening) dataset with arguments: {}\n",
      "Resulting dataset has 18015 examples: Dataset({\n",
      "    features: ['id', 'title', 'context', 'question', 'answers', 'answers_multi_way'],\n",
      "    num_rows: 18015\n",
      "})\n",
      "\n",
      "--> Generate unique identifier using ['id', 'answers']\n"
     ]
    },
    {
     "data": {
      "application/vnd.jupyter.widget-view+json": {
       "model_id": "f554e4a605f84912b00dfebda03c038f",
       "version_major": 2,
       "version_minor": 0
      },
      "text/plain": [
       "0ex [00:00, ?ex/s]"
      ]
     },
     "metadata": {},
     "output_type": "display_data"
    },
    {
     "name": "stdout",
     "output_type": "stream",
     "text": [
      "\n",
      "--> Renaming column names {'id': 'example_id', 'answers': 'labels', 'answers_multi_way': 'multi_way_labels'}\n",
      "Dataset({\n",
      "    features: ['example_id', 'title', 'context', 'question', 'labels', 'multi_way_labels', 'answer_id'],\n",
      "    num_rows: 18015\n",
      "})\n"
     ]
    }
   ],
   "source": [
    "unfold_kwargs = filter_params(LOAD_KWARGS, unfold_multiple_answers)\n",
    "print(\"\\n--> Unfolding (aka flattening) dataset with arguments:\", unfold_kwargs)\n",
    "data = data.map(unfold_multiple_answers, batched=True, **unfold_kwargs)\n",
    "print(\"Resulting dataset has\", len(data), \"examples:\", data)\n",
    "\n",
    "print(\"\\n--> Generate unique identifier using\", UUID_FEATURES)\n",
    "data = create_metadata(data, col=f\"answer_id\", features=UUID_FEATURES, **unfold_kwargs)\n",
    "\n",
    "\n",
    "COLS_NAMES = {\n",
    "    \"id\": \"example_id\",\n",
    "    ANSWER_COLNAME: \"labels\",\n",
    "    f\"{ANSWER_COLNAME}_multi_way\": \"multi_way_labels\", \n",
    "}\n",
    "\n",
    "print(\"\\n--> Renaming column names\", COLS_NAMES)\n",
    "data = data.rename_columns(COLS_NAMES)\n",
    "print(data)"
   ]
  },
  {
   "cell_type": "code",
   "execution_count": 6,
   "id": "b4c87830",
   "metadata": {},
   "outputs": [
    {
     "data": {
      "text/plain": [
       "[\"['Denver Broncos']\",\n",
       " \"['Carolina Panthers']\",\n",
       " '[\"Levi\\'s Stadium\", \"Levi\\'s Stadium in the San Francisco Bay Area at Santa Clara, California.\", \\'Santa Clara, California\\']',\n",
       " '[\"Levi\\'s Stadium\", \"Levi\\'s Stadium in the San Francisco Bay Area at Santa Clara, California.\", \\'Santa Clara, California\\']',\n",
       " '[\"Levi\\'s Stadium\", \"Levi\\'s Stadium in the San Francisco Bay Area at Santa Clara, California.\", \\'Santa Clara, California\\']',\n",
       " \"['Denver Broncos']\",\n",
       " \"['gold']\",\n",
       " '[\\'\"golden anniversary\\', \\'\"golden anniversary\"\\', \\'gold-themed\\']',\n",
       " '[\\'\"golden anniversary\\', \\'\"golden anniversary\"\\', \\'gold-themed\\']',\n",
       " '[\\'\"golden anniversary\\', \\'\"golden anniversary\"\\', \\'gold-themed\\']']"
      ]
     },
     "execution_count": 6,
     "metadata": {},
     "output_type": "execute_result"
    }
   ],
   "source": [
    "data[\"multi_way_labels\"][:10]"
   ]
  },
  {
   "cell_type": "markdown",
   "id": "8ba8a65f",
   "metadata": {},
   "source": [
    "### Dump matrix\n",
    "\n",
    "For some reason, we're not being able to store with compression format using the datasets."
   ]
  },
  {
   "cell_type": "code",
   "execution_count": 7,
   "id": "ed9a2ac8",
   "metadata": {},
   "outputs": [
    {
     "name": "stdout",
     "output_type": "stream",
     "text": [
      "Storing matrix at: ../outputs/results/squad/validation/matrix/squad_validation_preprocessed.csv\n"
     ]
    }
   ],
   "source": [
    "print(\"Storing matrix at:\", MATRIX_FILEPATH[:-3])"
   ]
  },
  {
   "cell_type": "code",
   "execution_count": 8,
   "id": "542f68c9",
   "metadata": {},
   "outputs": [
    {
     "data": {
      "application/vnd.jupyter.widget-view+json": {
       "model_id": "36cdf80c93a4490097014d5bb5f87d65",
       "version_major": 2,
       "version_minor": 0
      },
      "text/plain": [
       "Creating CSV from Arrow format:   0%|          | 0/2 [00:00<?, ?ba/s]"
      ]
     },
     "metadata": {},
     "output_type": "display_data"
    },
    {
     "name": "stderr",
     "output_type": "stream",
     "text": [
      "/home/kat/miniconda3/envs/py39-pytorch/lib/python3.9/site-packages/pandas/io/common.py:609: RuntimeWarning: compression has no effect when passing a non-binary object as input.\n",
      "  ioargs = _get_filepath_or_buffer(\n"
     ]
    },
    {
     "data": {
      "text/plain": [
       "18097199"
      ]
     },
     "execution_count": 8,
     "metadata": {},
     "output_type": "execute_result"
    }
   ],
   "source": [
    "data.to_csv(\n",
    "    MATRIX_FILEPATH[:-3],\n",
    "    index=False,\n",
    "    **csv_kwargs,\n",
    ")"
   ]
  },
  {
   "cell_type": "code",
   "execution_count": 9,
   "id": "2b308c7a",
   "metadata": {},
   "outputs": [
    {
     "data": {
      "text/plain": [
       "18010    ['metric slug', 'slug', 'the metric slug']\n",
       "18011    ['metric slug', 'slug', 'the metric slug']\n",
       "18012    ['metric slug', 'slug', 'the metric slug']\n",
       "18013                                       ['kip']\n",
       "18014                                    ['sthène']\n",
       "Name: multi_way_labels, dtype: object"
      ]
     },
     "execution_count": 9,
     "metadata": {},
     "output_type": "execute_result"
    }
   ],
   "source": [
    "import pandas as pd\n",
    "d = pd.read_csv(MATRIX_FILEPATH[:-3]).tail()\n",
    "d.multi_way_labels"
   ]
  },
  {
   "cell_type": "code",
   "execution_count": 10,
   "id": "5063ea96",
   "metadata": {},
   "outputs": [
    {
     "name": "stdout",
     "output_type": "stream",
     "text": [
      "total 37M\r\n",
      "-rw-rw-r-- 1 kat kat 1.6M Mar  1 20:34 allenaiunifiedqa-t5-small.csv.gz\r\n",
      "-rwxrwxr-x 1 kat kat    0 Mar  1 20:37 allenaiunifiedqa-t5-small.csv.gz.lock\r\n",
      "drwxrwxr-x 5 kat kat 4.0K Mar  2 04:53 ..\r\n",
      "drwxrwxr-x 2 kat kat 4.0K Mar  2 07:00 .\r\n",
      "-rw-rw-r-- 1 kat kat  18M Mar  2 07:00 squad_validation_preprocessed.csv.gz\r\n",
      "-rw-rw-r-- 1 kat kat  18M Mar  2 07:32 squad_validation_preprocessed.csv\r\n"
     ]
    }
   ],
   "source": [
    "!ls -latrh {MATRIX_DIR}"
   ]
  },
  {
   "cell_type": "code",
   "execution_count": null,
   "id": "743e4b06",
   "metadata": {},
   "outputs": [],
   "source": []
  },
  {
   "cell_type": "code",
   "execution_count": null,
   "id": "7bdff19a",
   "metadata": {},
   "outputs": [],
   "source": []
  }
 ],
 "metadata": {
  "kernelspec": {
   "display_name": "Python 3 (ipykernel)",
   "language": "python",
   "name": "python3"
  },
  "language_info": {
   "codemirror_mode": {
    "name": "ipython",
    "version": 3
   },
   "file_extension": ".py",
   "mimetype": "text/x-python",
   "name": "python",
   "nbconvert_exporter": "python",
   "pygments_lexer": "ipython3",
   "version": "3.9.7"
  },
  "toc": {
   "base_numbering": 1,
   "nav_menu": {},
   "number_sections": true,
   "sideBar": true,
   "skip_h1_title": true,
   "title_cell": "Table of Contents",
   "title_sidebar": "Contents",
   "toc_cell": false,
   "toc_position": {},
   "toc_section_display": true,
   "toc_window_display": false
  }
 },
 "nbformat": 4,
 "nbformat_minor": 5
}
