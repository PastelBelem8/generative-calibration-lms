{
 "cells": [
  {
   "cell_type": "markdown",
   "id": "b6df9f36",
   "metadata": {},
   "source": [
    "# Data Preprocessing\n",
    "\n",
    "This notebook gathers the preprocessing stages of each dataset for the analysis during out experiments."
   ]
  },
  {
   "cell_type": "code",
   "execution_count": 1,
   "id": "9b41aa1f",
   "metadata": {},
   "outputs": [
    {
     "name": "stdout",
     "output_type": "stream",
     "text": [
      "Writing matrix at filepath: ../outputs/results/newsqa/dev/matrix/newsqa_dev_preprocessed.csv.gz\n",
      "Using id as the unique column\n"
     ]
    },
    {
     "data": {
      "text/plain": [
       "['id', 'answers']"
      ]
     },
     "execution_count": 1,
     "metadata": {},
     "output_type": "execute_result"
    }
   ],
   "source": [
    "DATASET_DIR = \"../datasets\"\n",
    "OUTPUT_DIR = \"../outputs\"\n",
    "\n",
    "# name of the dataset to preprocess\n",
    "# DATASET_NAME, SPLIT_NAME = \"squad\", \"validation\"\n",
    "DATASET_NAME, SPLIT_NAME = \"newsqa\", \"dev\"\n",
    "# DATASET_NAME, SPLIT_NAME = ('squadshifts', 'new_wiki'), \"test\"\n",
    "# DATASET_NAME, SPLIT_NAME = ('squadshifts', 'nyt'), \"test\"\n",
    "# DATASET_NAME, SPLIT_NAME = ('squadshifts', 'amazon'), \"test\"\n",
    "# DATASET_NAME, SPLIT_NAME = ('squadshifts', 'reddit'), \"test\"\n",
    "\n",
    "if isinstance(DATASET_NAME, tuple):\n",
    "    DATASET_NAME = \"\".join(DATASET_NAME)\n",
    "    \n",
    "BASE_FILENAME = f\"{DATASET_NAME}_{SPLIT_NAME}\"\n",
    "IS_LOCAL_FS_DATASET = True if DATASET_NAME in (\"newsqa\",) else False\n",
    "\n",
    "ROOT_DIR = f\"{OUTPUT_DIR}/results/{DATASET_NAME}/{SPLIT_NAME}\"\n",
    "MATRIX_DIR = f\"{ROOT_DIR}/matrix\"\n",
    "!mkdir -p {MATRIX_DIR}\n",
    "\n",
    "MATRIX_FILEPATH = f\"{MATRIX_DIR}/{BASE_FILENAME}_preprocessed.csv.gz\"\n",
    "print(\"Writing matrix at filepath:\", MATRIX_FILEPATH)\n",
    "\n",
    "SEED = 42\n",
    "# Arguments used to read the files from disk\n",
    "csv_kwargs = {\n",
    "   \"compression\": \"gzip\",\n",
    "   \"encoding\": \"utf-8\",\n",
    "}\n",
    "\n",
    "# ----------------------------------------\n",
    "## Columns names\n",
    "# ----------------------------------------\n",
    "UNIQUE_ID_COL = \"id\"\n",
    "print(\"Using\", UNIQUE_ID_COL, \"as the unique column\")\n",
    "\n",
    "QUESTION_COLNAME = \"question\"\n",
    "CONTEXT_COLNAME = \"context\"\n",
    "ANSWER_COLNAME = \"answers\"\n",
    "\n",
    "UUID_FEATURES = [UNIQUE_ID_COL, ANSWER_COLNAME]\n",
    "UUID_FEATURES"
   ]
  },
  {
   "cell_type": "code",
   "execution_count": 2,
   "id": "ecf209f3",
   "metadata": {},
   "outputs": [],
   "source": [
    "from utils.datasets import load_dataset, unfold_multiple_answers, create_metadata"
   ]
  },
  {
   "cell_type": "code",
   "execution_count": 3,
   "id": "898123d4",
   "metadata": {},
   "outputs": [],
   "source": [
    "LOAD_KWARGS = {\n",
    "    \"dataset\": DATASET_NAME,\n",
    "    \"split\": SPLIT_NAME,\n",
    "    \"local\": IS_LOCAL_FS_DATASET,\n",
    "    \"local_dir\": DATASET_DIR,\n",
    "    \n",
    "    \"fn_kwargs\": {\n",
    "        \"answer_col\": ANSWER_COLNAME,\n",
    "    },\n",
    "}"
   ]
  },
  {
   "cell_type": "code",
   "execution_count": 11,
   "id": "5a2a566f",
   "metadata": {
    "scrolled": true
   },
   "outputs": [
    {
     "name": "stdout",
     "output_type": "stream",
     "text": [
      "\n",
      "--> Loading dataset with arguments: {'dataset': 'newsqa', 'split': 'dev', 'local': True, 'local_dir': '../datasets', 'fn_kwargs': {'answer_col': 'answers'}}\n",
      "Loaded dataset with 4341 examples: Dataset({\n",
      "    features: ['id', 'title', 'question', 'context', 'answers'],\n",
      "    num_rows: 4341\n",
      "})\n"
     ]
    }
   ],
   "source": [
    "from utils_generic import filter_params, generate_uuid\n",
    "\n",
    "load_kwargs = LOAD_KWARGS\n",
    "print(\"\\n--> Loading dataset with arguments:\", load_kwargs)\n",
    "data = load_dataset(**load_kwargs)\n",
    "print(\"Loaded dataset with\", len(data), \"examples:\", data)"
   ]
  },
  {
   "cell_type": "code",
   "execution_count": 12,
   "id": "7c36d58c",
   "metadata": {},
   "outputs": [
    {
     "name": "stdout",
     "output_type": "stream",
     "text": [
      "\n",
      "--> Unfolding (aka flattening) dataset with arguments: {}\n"
     ]
    },
    {
     "data": {
      "application/vnd.jupyter.widget-view+json": {
       "model_id": "d508948f90a5473f8ac2455d5774742c",
       "version_major": 2,
       "version_minor": 0
      },
      "text/plain": [
       "  0%|          | 0/5 [00:00<?, ?ba/s]"
      ]
     },
     "metadata": {},
     "output_type": "display_data"
    },
    {
     "name": "stdout",
     "output_type": "stream",
     "text": [
      "Resulting dataset has 4341 examples: Dataset({\n",
      "    features: ['id', 'title', 'question', 'context', 'answers', 'answers_multi_way'],\n",
      "    num_rows: 4341\n",
      "})\n",
      "\n",
      "--> Generate unique identifier using ['id', 'answers']\n"
     ]
    },
    {
     "data": {
      "application/vnd.jupyter.widget-view+json": {
       "model_id": "ad5f4446ec6342bba5a700b2f6e73377",
       "version_major": 2,
       "version_minor": 0
      },
      "text/plain": [
       "0ex [00:00, ?ex/s]"
      ]
     },
     "metadata": {},
     "output_type": "display_data"
    },
    {
     "name": "stdout",
     "output_type": "stream",
     "text": [
      "\n",
      "--> Renaming column names {'id': 'example_id', 'answers': 'labels', 'answers_multi_way': 'multi_way_labels'}\n",
      "Dataset({\n",
      "    features: ['example_id', 'title', 'question', 'context', 'labels', 'multi_way_labels', 'answers_id'],\n",
      "    num_rows: 4341\n",
      "})\n"
     ]
    }
   ],
   "source": [
    "unfold_kwargs = filter_params(LOAD_KWARGS, unfold_multiple_answers)\n",
    "print(\"\\n--> Unfolding (aka flattening) dataset with arguments:\", unfold_kwargs)\n",
    "data = data.map(unfold_multiple_answers, batched=True, **unfold_kwargs)\n",
    "print(\"Resulting dataset has\", len(data), \"examples:\", data)\n",
    "\n",
    "print(\"\\n--> Generate unique identifier using\", UUID_FEATURES)\n",
    "data = create_metadata(data, col=f\"{ANSWER_COLNAME}_id\", features=UUID_FEATURES, **unfold_kwargs)\n",
    "\n",
    "\n",
    "COLS_NAMES = {\n",
    "    \"id\": \"example_id\",\n",
    "    ANSWER_COLNAME: \"labels\",\n",
    "    f\"{ANSWER_COLNAME}_multi_way\": \"multi_way_labels\", \n",
    "}\n",
    "\n",
    "print(\"\\n--> Renaming column names\", COLS_NAMES)\n",
    "data = data.rename_columns(COLS_NAMES)\n",
    "print(data)"
   ]
  },
  {
   "cell_type": "code",
   "execution_count": 13,
   "id": "b19cc441",
   "metadata": {},
   "outputs": [
    {
     "data": {
      "text/plain": [
       "\"['Wednesday']\""
      ]
     },
     "execution_count": 13,
     "metadata": {},
     "output_type": "execute_result"
    }
   ],
   "source": [
    "data[\"multi_way_labels\"][2]"
   ]
  },
  {
   "cell_type": "markdown",
   "id": "7560d68b",
   "metadata": {},
   "source": [
    "### Dump matrix\n",
    "\n",
    "For some reason, we're not being able to store with compression format using the datasets."
   ]
  },
  {
   "cell_type": "code",
   "execution_count": 14,
   "id": "d0158f20",
   "metadata": {},
   "outputs": [
    {
     "name": "stdout",
     "output_type": "stream",
     "text": [
      "Storing matrix at: ../outputs/results/newsqa/dev/matrix/newsqa_dev_preprocessed.csv\n"
     ]
    }
   ],
   "source": [
    "print(\"Storing matrix at:\", MATRIX_FILEPATH[:-3])"
   ]
  },
  {
   "cell_type": "code",
   "execution_count": 15,
   "id": "8463cea4",
   "metadata": {},
   "outputs": [
    {
     "data": {
      "application/vnd.jupyter.widget-view+json": {
       "model_id": "8a397ca9e3a74509a57cde8cdf5ca70c",
       "version_major": 2,
       "version_minor": 0
      },
      "text/plain": [
       "Creating CSV from Arrow format:   0%|          | 0/1 [00:00<?, ?ba/s]"
      ]
     },
     "metadata": {},
     "output_type": "display_data"
    },
    {
     "name": "stderr",
     "output_type": "stream",
     "text": [
      "/home/kat/miniconda3/envs/py39-pytorch/lib/python3.9/site-packages/pandas/io/common.py:609: RuntimeWarning: compression has no effect when passing a non-binary object as input.\n",
      "  ioargs = _get_filepath_or_buffer(\n"
     ]
    },
    {
     "data": {
      "text/plain": [
       "16008694"
      ]
     },
     "execution_count": 15,
     "metadata": {},
     "output_type": "execute_result"
    }
   ],
   "source": [
    "data.to_csv(\n",
    "    MATRIX_FILEPATH[:-3],\n",
    "    index=False,\n",
    "    **csv_kwargs,\n",
    ")"
   ]
  },
  {
   "cell_type": "code",
   "execution_count": 16,
   "id": "51241a62",
   "metadata": {},
   "outputs": [
    {
     "data": {
      "text/plain": [
       "4336                                    ['the coalition']\n",
       "4337                                     ['restrictions']\n",
       "4338           ['Iran of trying to build nuclear bombs,']\n",
       "4339                                             ['Iran']\n",
       "4340    ['Iran test-launched a rocket capable of carry...\n",
       "Name: multi_way_labels, dtype: object"
      ]
     },
     "execution_count": 16,
     "metadata": {},
     "output_type": "execute_result"
    }
   ],
   "source": [
    "import pandas as pd\n",
    "d = pd.read_csv(MATRIX_FILEPATH[:-3]).tail()\n",
    "d.multi_way_labels"
   ]
  },
  {
   "cell_type": "code",
   "execution_count": 17,
   "id": "733cad5a",
   "metadata": {},
   "outputs": [
    {
     "name": "stdout",
     "output_type": "stream",
     "text": [
      "total 16M\r\n",
      "drwxrwxr-x 3 kat kat 4.0K Mar  2 07:06 ..\r\n",
      "drwxrwxr-x 2 kat kat 4.0K Mar  2 07:10 .\r\n",
      "-rw-rw-r-- 1 kat kat  16M Mar  2 07:10 newsqa_dev_preprocessed.csv\r\n"
     ]
    }
   ],
   "source": [
    "!ls -latrh {MATRIX_DIR}"
   ]
  },
  {
   "cell_type": "code",
   "execution_count": null,
   "id": "7160ca67",
   "metadata": {},
   "outputs": [],
   "source": []
  }
 ],
 "metadata": {
  "kernelspec": {
   "display_name": "Python 3 (ipykernel)",
   "language": "python",
   "name": "python3"
  },
  "language_info": {
   "codemirror_mode": {
    "name": "ipython",
    "version": 3
   },
   "file_extension": ".py",
   "mimetype": "text/x-python",
   "name": "python",
   "nbconvert_exporter": "python",
   "pygments_lexer": "ipython3",
   "version": "3.9.7"
  },
  "toc": {
   "base_numbering": 1,
   "nav_menu": {},
   "number_sections": true,
   "sideBar": true,
   "skip_h1_title": true,
   "title_cell": "Table of Contents",
   "title_sidebar": "Contents",
   "toc_cell": false,
   "toc_position": {},
   "toc_section_display": true,
   "toc_window_display": false
  }
 },
 "nbformat": 4,
 "nbformat_minor": 5
}
