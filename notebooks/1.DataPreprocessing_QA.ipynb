{
 "cells": [
  {
   "cell_type": "markdown",
   "id": "a4f436b2",
   "metadata": {},
   "source": [
    "# Data Preprocessing\n",
    "\n",
    "This notebook gathers the preprocessing stages of each dataset for the analysis during out experiments."
   ]
  },
  {
   "cell_type": "code",
   "execution_count": 1,
   "id": "27fe87c4",
   "metadata": {},
   "outputs": [
    {
     "name": "stdout",
     "output_type": "stream",
     "text": [
      "Writing matrix at filepath: ../outputs/results/squadshiftsnew_wiki/test/matrix/squadshiftsnew_wiki_test_preprocessed.csv.gz\n",
      "Using id as the unique column\n"
     ]
    },
    {
     "data": {
      "text/plain": [
       "['id', 'answers']"
      ]
     },
     "execution_count": 1,
     "metadata": {},
     "output_type": "execute_result"
    }
   ],
   "source": [
    "DATASET_DIR = \"../datasets\"\n",
    "OUTPUT_DIR = \"../outputs\"\n",
    "\n",
    "# name of the dataset to preprocess\n",
    "# DATASET_NAME, SPLIT_NAME = \"squad\", \"validation\"\n",
    "# DATASET_NAME, SPLIT_NAME = \"newsqa\", \"dev\"\n",
    "DATASET_NAME, SPLIT_NAME = ('squadshifts', 'new_wiki'), \"test\"\n",
    "# DATASET_NAME, SPLIT_NAME = ('squadshifts', 'nyt'), \"test\"\n",
    "# DATASET_NAME, SPLIT_NAME = ('squadshifts', 'amazon'), \"test\"\n",
    "# DATASET_NAME, SPLIT_NAME = ('squadshifts', 'reddit'), \"test\"\n",
    "\n",
    "IS_LOCAL_FS_DATASET = True if DATASET_NAME in (\"newsqa\",) else False\n",
    "\n",
    "if isinstance(DATASET_NAME, tuple):\n",
    "    NORMALIZED_DATASET_NAME = \"\".join(DATASET_NAME)\n",
    "else:\n",
    "    NORMALIZED_DATASET_NAME = DATASET_NAME\n",
    "\n",
    "BASE_FILENAME = f\"{NORMALIZED_DATASET_NAME}_{SPLIT_NAME}\"\n",
    "\n",
    "ROOT_DIR = f\"{OUTPUT_DIR}/results/{NORMALIZED_DATASET_NAME}/{SPLIT_NAME}\"\n",
    "MATRIX_DIR = f\"{ROOT_DIR}/matrix\"\n",
    "!mkdir -p {MATRIX_DIR}\n",
    "\n",
    "MATRIX_FILEPATH = f\"{MATRIX_DIR}/{BASE_FILENAME}_preprocessed.csv.gz\"\n",
    "print(\"Writing matrix at filepath:\", MATRIX_FILEPATH)\n",
    "\n",
    "SEED = 42\n",
    "# Arguments used to read the files from disk\n",
    "csv_kwargs = {\n",
    "   \"compression\": \"gzip\",\n",
    "   \"encoding\": \"utf-8\",\n",
    "}\n",
    "\n",
    "# ----------------------------------------\n",
    "## Columns names\n",
    "# ----------------------------------------\n",
    "UNIQUE_ID_COL = \"id\"\n",
    "print(\"Using\", UNIQUE_ID_COL, \"as the unique column\")\n",
    "\n",
    "QUESTION_COLNAME = \"question\"\n",
    "CONTEXT_COLNAME = \"context\"\n",
    "ANSWER_COLNAME = \"answers\"\n",
    "\n",
    "UUID_FEATURES = [UNIQUE_ID_COL, ANSWER_COLNAME]\n",
    "UUID_FEATURES"
   ]
  },
  {
   "cell_type": "code",
   "execution_count": 2,
   "id": "ea77c095",
   "metadata": {},
   "outputs": [],
   "source": [
    "from utils.datasets import load_dataset, unfold_multiple_answers, create_metadata"
   ]
  },
  {
   "cell_type": "code",
   "execution_count": 3,
   "id": "b3dcdf57",
   "metadata": {},
   "outputs": [],
   "source": [
    "LOAD_KWARGS = {\n",
    "    \"dataset\": DATASET_NAME,\n",
    "    \"split\": SPLIT_NAME,\n",
    "    \"local\": IS_LOCAL_FS_DATASET,\n",
    "    \"local_dir\": DATASET_DIR,\n",
    "    \n",
    "    \"fn_kwargs\": {\n",
    "        \"answer_col\": ANSWER_COLNAME,\n",
    "    },\n",
    "}"
   ]
  },
  {
   "cell_type": "code",
   "execution_count": 4,
   "id": "13914466",
   "metadata": {
    "scrolled": true
   },
   "outputs": [
    {
     "name": "stdout",
     "output_type": "stream",
     "text": [
      "\n",
      "--> Loading dataset with arguments: {'dataset': ('squadshifts', 'new_wiki'), 'split': 'test', 'local': False, 'local_dir': '../datasets', 'fn_kwargs': {'answer_col': 'answers'}}\n"
     ]
    },
    {
     "name": "stderr",
     "output_type": "stream",
     "text": [
      "Reusing dataset squad_shifts (/home/kat/.cache/huggingface/datasets/squad_shifts/new_wiki/1.0.0/8303de6ce29bd28061c984dc50d04351a73bc3c344d5efe46f38b9948c2e3aca)\n"
     ]
    },
    {
     "name": "stdout",
     "output_type": "stream",
     "text": [
      "Loaded dataset with 7938 examples: Dataset({\n",
      "    features: ['id', 'title', 'context', 'question', 'answers'],\n",
      "    num_rows: 7938\n",
      "})\n"
     ]
    }
   ],
   "source": [
    "from utils_generic import filter_params, generate_uuid\n",
    "\n",
    "load_kwargs = LOAD_KWARGS\n",
    "print(\"\\n--> Loading dataset with arguments:\", load_kwargs)\n",
    "data = load_dataset(**load_kwargs)\n",
    "print(\"Loaded dataset with\", len(data), \"examples:\", data)"
   ]
  },
  {
   "cell_type": "code",
   "execution_count": 5,
   "id": "806068b7",
   "metadata": {},
   "outputs": [
    {
     "name": "stderr",
     "output_type": "stream",
     "text": [
      "Loading cached processed dataset at /home/kat/.cache/huggingface/datasets/squad_shifts/new_wiki/1.0.0/8303de6ce29bd28061c984dc50d04351a73bc3c344d5efe46f38b9948c2e3aca/cache-8d35d8dadbb0a282.arrow\n",
      "Loading cached processed dataset at /home/kat/.cache/huggingface/datasets/squad_shifts/new_wiki/1.0.0/8303de6ce29bd28061c984dc50d04351a73bc3c344d5efe46f38b9948c2e3aca/cache-bc9054b5f96ad2d9.arrow\n"
     ]
    },
    {
     "name": "stdout",
     "output_type": "stream",
     "text": [
      "\n",
      "--> Unfolding (aka flattening) dataset with arguments: {}\n",
      "Resulting dataset has 14160 examples: Dataset({\n",
      "    features: ['id', 'title', 'context', 'question', 'answers', 'answers_multi_way'],\n",
      "    num_rows: 14160\n",
      "})\n",
      "\n",
      "--> Generate unique identifier using ['id', 'answers']\n",
      "\n",
      "--> Renaming column names {'id': 'example_id', 'answers': 'labels', 'answers_multi_way': 'multi_way_labels'}\n",
      "Dataset({\n",
      "    features: ['example_id', 'title', 'context', 'question', 'labels', 'multi_way_labels', 'answers_id'],\n",
      "    num_rows: 14160\n",
      "})\n"
     ]
    }
   ],
   "source": [
    "unfold_kwargs = filter_params(LOAD_KWARGS, unfold_multiple_answers)\n",
    "print(\"\\n--> Unfolding (aka flattening) dataset with arguments:\", unfold_kwargs)\n",
    "data = data.map(unfold_multiple_answers, batched=True, **unfold_kwargs)\n",
    "print(\"Resulting dataset has\", len(data), \"examples:\", data)\n",
    "\n",
    "print(\"\\n--> Generate unique identifier using\", UUID_FEATURES)\n",
    "data = create_metadata(data, col=f\"{ANSWER_COLNAME}_id\", features=UUID_FEATURES, **unfold_kwargs)\n",
    "\n",
    "\n",
    "COLS_NAMES = {\n",
    "    \"id\": \"example_id\",\n",
    "    ANSWER_COLNAME: \"labels\",\n",
    "    f\"{ANSWER_COLNAME}_multi_way\": \"multi_way_labels\", \n",
    "}\n",
    "\n",
    "print(\"\\n--> Renaming column names\", COLS_NAMES)\n",
    "data = data.rename_columns(COLS_NAMES)\n",
    "print(data)"
   ]
  },
  {
   "cell_type": "code",
   "execution_count": 11,
   "id": "81a172df",
   "metadata": {},
   "outputs": [
    {
     "data": {
      "text/plain": [
       "[\"['Each brotherhood elects two delegates who take part in the National Ecclesiastical Assembly', 'two delegates']\",\n",
       " \"['Each brotherhood elects two delegates who take part in the National Ecclesiastical Assembly', 'two delegates']\",\n",
       " \"['Each brotherhood elects two delegates who take part in the National Ecclesiastical Assembly.', 'National Ecclesiastical Assembly', 'The brotherhood makes decisions concerning the inner affairs of the monastery', 'concerning the inner affairs of the monastery']\",\n",
       " \"['Each brotherhood elects two delegates who take part in the National Ecclesiastical Assembly.', 'National Ecclesiastical Assembly', 'The brotherhood makes decisions concerning the inner affairs of the monastery', 'concerning the inner affairs of the monastery']\",\n",
       " \"['Each brotherhood elects two delegates who take part in the National Ecclesiastical Assembly.', 'National Ecclesiastical Assembly', 'The brotherhood makes decisions concerning the inner affairs of the monastery', 'concerning the inner affairs of the monastery']\",\n",
       " \"['Each brotherhood elects two delegates who take part in the National Ecclesiastical Assembly.', 'National Ecclesiastical Assembly', 'The brotherhood makes decisions concerning the inner affairs of the monastery', 'concerning the inner affairs of the monastery']\",\n",
       " \"['Each Armenian celibate priest becomes a member of the brotherhood in which he has studied and ordained in or under the jurisdiction of which he has served', 'studied and ordained', 'studied and ordained in or under the jurisdiction of which he has served.', 'the brotherhood in which he has studied and ordained in']\",\n",
       " \"['Each Armenian celibate priest becomes a member of the brotherhood in which he has studied and ordained in or under the jurisdiction of which he has served', 'studied and ordained', 'studied and ordained in or under the jurisdiction of which he has served.', 'the brotherhood in which he has studied and ordained in']\",\n",
       " \"['Each Armenian celibate priest becomes a member of the brotherhood in which he has studied and ordained in or under the jurisdiction of which he has served', 'studied and ordained', 'studied and ordained in or under the jurisdiction of which he has served.', 'the brotherhood in which he has studied and ordained in']\",\n",
       " \"['Each Armenian celibate priest becomes a member of the brotherhood in which he has studied and ordained in or under the jurisdiction of which he has served', 'studied and ordained', 'studied and ordained in or under the jurisdiction of which he has served.', 'the brotherhood in which he has studied and ordained in']\"]"
      ]
     },
     "execution_count": 11,
     "metadata": {},
     "output_type": "execute_result"
    }
   ],
   "source": [
    "data[\"multi_way_labels\"][:10]"
   ]
  },
  {
   "cell_type": "markdown",
   "id": "9a8b317b",
   "metadata": {},
   "source": [
    "### Dump matrix\n",
    "\n",
    "For some reason, we're not being able to store with compression format using the datasets."
   ]
  },
  {
   "cell_type": "code",
   "execution_count": 7,
   "id": "c3760abd",
   "metadata": {},
   "outputs": [
    {
     "name": "stdout",
     "output_type": "stream",
     "text": [
      "Storing matrix at: ../outputs/results/squadshiftsnew_wiki/test/matrix/squadshiftsnew_wiki_test_preprocessed.csv\n"
     ]
    }
   ],
   "source": [
    "print(\"Storing matrix at:\", MATRIX_FILEPATH[:-3])"
   ]
  },
  {
   "cell_type": "code",
   "execution_count": 8,
   "id": "98572702",
   "metadata": {},
   "outputs": [
    {
     "data": {
      "application/vnd.jupyter.widget-view+json": {
       "model_id": "4dbb6e9d459b4182ad2ba3070b2ffdc3",
       "version_major": 2,
       "version_minor": 0
      },
      "text/plain": [
       "Creating CSV from Arrow format:   0%|          | 0/2 [00:00<?, ?ba/s]"
      ]
     },
     "metadata": {},
     "output_type": "display_data"
    },
    {
     "name": "stderr",
     "output_type": "stream",
     "text": [
      "/home/kat/miniconda3/envs/py39-pytorch/lib/python3.9/site-packages/pandas/io/common.py:609: RuntimeWarning: compression has no effect when passing a non-binary object as input.\n",
      "  ioargs = _get_filepath_or_buffer(\n"
     ]
    },
    {
     "data": {
      "text/plain": [
       "14440952"
      ]
     },
     "execution_count": 8,
     "metadata": {},
     "output_type": "execute_result"
    }
   ],
   "source": [
    "data.to_csv(\n",
    "    MATRIX_FILEPATH[:-3],\n",
    "    index=False,\n",
    "    **csv_kwargs,\n",
    ")"
   ]
  },
  {
   "cell_type": "code",
   "execution_count": 9,
   "id": "c11b528f",
   "metadata": {},
   "outputs": [
    {
     "data": {
      "text/plain": [
       "14155                             ['The Nutrition Source']\n",
       "14156                                       ['eight-year']\n",
       "14157    ['increased risk of obesity and diabetes', 'ri...\n",
       "14158    ['increased risk of obesity and diabetes', 'ri...\n",
       "14159                                           ['49,000']\n",
       "Name: multi_way_labels, dtype: object"
      ]
     },
     "execution_count": 9,
     "metadata": {},
     "output_type": "execute_result"
    }
   ],
   "source": [
    "import pandas as pd\n",
    "d = pd.read_csv(MATRIX_FILEPATH[:-3]).tail()\n",
    "d.multi_way_labels"
   ]
  },
  {
   "cell_type": "code",
   "execution_count": 10,
   "id": "2b4fd84b",
   "metadata": {},
   "outputs": [
    {
     "name": "stdout",
     "output_type": "stream",
     "text": [
      "total 14M\r\n",
      "drwxrwxr-x 3 kat kat 4.0K Mar  2 07:11 ..\r\n",
      "drwxrwxr-x 2 kat kat 4.0K Mar  2 07:17 .\r\n",
      "-rw-rw-r-- 1 kat kat  14M Mar  2 07:17 squadshiftsnew_wiki_test_preprocessed.csv\r\n"
     ]
    }
   ],
   "source": [
    "!ls -latrh {MATRIX_DIR}"
   ]
  },
  {
   "cell_type": "code",
   "execution_count": null,
   "id": "e26c0989",
   "metadata": {},
   "outputs": [],
   "source": []
  }
 ],
 "metadata": {
  "kernelspec": {
   "display_name": "Python 3 (ipykernel)",
   "language": "python",
   "name": "python3"
  },
  "language_info": {
   "codemirror_mode": {
    "name": "ipython",
    "version": 3
   },
   "file_extension": ".py",
   "mimetype": "text/x-python",
   "name": "python",
   "nbconvert_exporter": "python",
   "pygments_lexer": "ipython3",
   "version": "3.9.7"
  },
  "toc": {
   "base_numbering": 1,
   "nav_menu": {},
   "number_sections": true,
   "sideBar": true,
   "skip_h1_title": true,
   "title_cell": "Table of Contents",
   "title_sidebar": "Contents",
   "toc_cell": false,
   "toc_position": {},
   "toc_section_display": true,
   "toc_window_display": false
  }
 },
 "nbformat": 4,
 "nbformat_minor": 5
}
